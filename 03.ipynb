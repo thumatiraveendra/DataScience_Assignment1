{
 "cells": [
  {
   "cell_type": "code",
   "execution_count": null,
   "metadata": {},
   "outputs": [],
   "source": [
    "Problem_3. Write a Python program to find the volume of a sphere with diameter 12 cm."
   ]
  },
  {
   "cell_type": "code",
   "execution_count": 4,
   "metadata": {},
   "outputs": [
    {
     "name": "stdout",
     "output_type": "stream",
     "text": [
      "Output:\n",
      "The Volume of sphere is :904.7786842338603 cc\n"
     ]
    }
   ],
   "source": [
    "#Import Math Module\n",
    "import math\n",
    "\n",
    "d=12\n",
    "r=d/2\n",
    "V= (4/3)*(math.pi)*(r**3)\n",
    "print(\"Output:\")\n",
    "print(\"The Volume of sphere is :\"+str(V)+\" cc\")"
   ]
  }
 ],
 "metadata": {
  "kernelspec": {
   "display_name": "Python 3",
   "language": "python",
   "name": "python3"
  },
  "language_info": {
   "codemirror_mode": {
    "name": "ipython",
    "version": 3
   },
   "file_extension": ".py",
   "mimetype": "text/x-python",
   "name": "python",
   "nbconvert_exporter": "python",
   "pygments_lexer": "ipython3",
   "version": "3.7.1"
  }
 },
 "nbformat": 4,
 "nbformat_minor": 2
}
